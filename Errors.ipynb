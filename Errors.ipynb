{
  "nbformat": 4,
  "nbformat_minor": 0,
  "metadata": {
    "colab": {
      "provenance": [],
      "authorship_tag": "ABX9TyN/WuAOErVTzz6vKWBBiShE",
      "include_colab_link": true
    },
    "kernelspec": {
      "name": "python3",
      "display_name": "Python 3"
    },
    "language_info": {
      "name": "python"
    }
  },
  "cells": [
    {
      "cell_type": "markdown",
      "metadata": {
        "id": "view-in-github",
        "colab_type": "text"
      },
      "source": [
        "<a href=\"https://colab.research.google.com/github/nihel-sliti/Python/blob/main/Errors.ipynb\" target=\"_parent\"><img src=\"https://colab.research.google.com/assets/colab-badge.svg\" alt=\"Open In Colab\"/></a>"
      ]
    },
    {
      "cell_type": "markdown",
      "source": [
        "# **IndexError**"
      ],
      "metadata": {
        "id": "4SkkLMreI0n0"
      }
    },
    {
      "cell_type": "code",
      "execution_count": 1,
      "metadata": {
        "colab": {
          "base_uri": "https://localhost:8080/",
          "height": 193
        },
        "id": "2YxiJz11-Fmg",
        "outputId": "b17771f9-9f6e-4714-e6a8-5f0d86aa0800"
      },
      "outputs": [
        {
          "output_type": "error",
          "ename": "IndexError",
          "evalue": "list index out of range",
          "traceback": [
            "\u001b[0;31m---------------------------------------------------------------------------\u001b[0m",
            "\u001b[0;31mIndexError\u001b[0m                                Traceback (most recent call last)",
            "\u001b[0;32m<ipython-input-1-30c160f9e63a>\u001b[0m in \u001b[0;36m<cell line: 2>\u001b[0;34m()\u001b[0m\n\u001b[1;32m      1\u001b[0m \u001b[0mL1\u001b[0m\u001b[0;34m=\u001b[0m\u001b[0;34m[\u001b[0m\u001b[0;36m1\u001b[0m\u001b[0;34m,\u001b[0m\u001b[0;36m2\u001b[0m\u001b[0;34m,\u001b[0m\u001b[0;36m3\u001b[0m\u001b[0;34m]\u001b[0m\u001b[0;34m\u001b[0m\u001b[0;34m\u001b[0m\u001b[0m\n\u001b[0;32m----> 2\u001b[0;31m \u001b[0mL1\u001b[0m\u001b[0;34m[\u001b[0m\u001b[0;36m3\u001b[0m\u001b[0;34m]\u001b[0m\u001b[0;34m\u001b[0m\u001b[0;34m\u001b[0m\u001b[0m\n\u001b[0m",
            "\u001b[0;31mIndexError\u001b[0m: list index out of range"
          ]
        }
      ],
      "source": [
        "L1=[1,2,3]\n",
        "L1[3]"
      ]
    },
    {
      "cell_type": "markdown",
      "source": [
        "![image.png](data:image/png;base64,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)"
      ],
      "metadata": {
        "id": "d6Zexe8KJ4IA"
      }
    },
    {
      "cell_type": "code",
      "source": [
        "L1[2]"
      ],
      "metadata": {
        "colab": {
          "base_uri": "https://localhost:8080/"
        },
        "id": "kge_fJNT-Tpf",
        "outputId": "9fc26908-d05a-4eba-aa5b-962d948320a3"
      },
      "execution_count": 2,
      "outputs": [
        {
          "output_type": "execute_result",
          "data": {
            "text/plain": [
              "3"
            ]
          },
          "metadata": {},
          "execution_count": 2
        }
      ]
    },
    {
      "cell_type": "code",
      "source": [
        "L1[-1]"
      ],
      "metadata": {
        "colab": {
          "base_uri": "https://localhost:8080/"
        },
        "id": "FTwThrD-KID-",
        "outputId": "24358345-a696-41f1-8d90-5c922f255d28"
      },
      "execution_count": 27,
      "outputs": [
        {
          "output_type": "execute_result",
          "data": {
            "text/plain": [
              "3"
            ]
          },
          "metadata": {},
          "execution_count": 27
        }
      ]
    },
    {
      "cell_type": "code",
      "source": [
        "L2=[1,2,3,25]\n",
        "L2[3]"
      ],
      "metadata": {
        "colab": {
          "base_uri": "https://localhost:8080/"
        },
        "id": "3-r2TVg6KM1M",
        "outputId": "75a4e041-b242-4b17-9cd4-d1831be1fbd3"
      },
      "execution_count": 30,
      "outputs": [
        {
          "output_type": "execute_result",
          "data": {
            "text/plain": [
              "25"
            ]
          },
          "metadata": {},
          "execution_count": 30
        }
      ]
    },
    {
      "cell_type": "markdown",
      "source": [
        "# **SyntaxError**"
      ],
      "metadata": {
        "id": "_G7uHlCzKtj4"
      }
    },
    {
      "cell_type": "code",
      "source": [
        "print \"hello world\""
      ],
      "metadata": {
        "colab": {
          "base_uri": "https://localhost:8080/",
          "height": 141
        },
        "id": "Y0EaWhN0-Zlx",
        "outputId": "a6cde7be-4ea8-494a-a738-43a525fef4db"
      },
      "execution_count": 31,
      "outputs": [
        {
          "output_type": "error",
          "ename": "SyntaxError",
          "evalue": "Missing parentheses in call to 'print'. Did you mean print(...)? (<ipython-input-31-6d29d8fb337c>, line 1)",
          "traceback": [
            "\u001b[0;36m  File \u001b[0;32m\"<ipython-input-31-6d29d8fb337c>\"\u001b[0;36m, line \u001b[0;32m1\u001b[0m\n\u001b[0;31m    print \"hello world\"\u001b[0m\n\u001b[0m    ^\u001b[0m\n\u001b[0;31mSyntaxError\u001b[0m\u001b[0;31m:\u001b[0m Missing parentheses in call to 'print'. Did you mean print(...)?\n"
          ]
        }
      ]
    },
    {
      "cell_type": "code",
      "source": [
        "print(\"hello world\")"
      ],
      "metadata": {
        "colab": {
          "base_uri": "https://localhost:8080/"
        },
        "id": "pbMh-l97-cfl",
        "outputId": "7aa79358-8822-4a28-eba7-6ad37db57141"
      },
      "execution_count": 32,
      "outputs": [
        {
          "output_type": "stream",
          "name": "stdout",
          "text": [
            "hello world\n"
          ]
        }
      ]
    },
    {
      "cell_type": "markdown",
      "source": [
        "# **ModuleNotFoundError**"
      ],
      "metadata": {
        "id": "tEaeFj1ILCIS"
      }
    },
    {
      "cell_type": "code",
      "source": [
        "import numpya"
      ],
      "metadata": {
        "colab": {
          "base_uri": "https://localhost:8080/",
          "height": 315
        },
        "id": "i_nLvR_g-hZk",
        "outputId": "d5a26d0f-72ef-4785-ecd7-6c9c97d971f7"
      },
      "execution_count": 34,
      "outputs": [
        {
          "output_type": "error",
          "ename": "ModuleNotFoundError",
          "evalue": "No module named 'numpya'",
          "traceback": [
            "\u001b[0;31m---------------------------------------------------------------------------\u001b[0m",
            "\u001b[0;31mModuleNotFoundError\u001b[0m                       Traceback (most recent call last)",
            "\u001b[0;32m<ipython-input-34-be23644ffc29>\u001b[0m in \u001b[0;36m<cell line: 1>\u001b[0;34m()\u001b[0m\n\u001b[0;32m----> 1\u001b[0;31m \u001b[0;32mimport\u001b[0m \u001b[0mnumpya\u001b[0m\u001b[0;34m\u001b[0m\u001b[0;34m\u001b[0m\u001b[0m\n\u001b[0m",
            "\u001b[0;31mModuleNotFoundError\u001b[0m: No module named 'numpya'",
            "",
            "\u001b[0;31m---------------------------------------------------------------------------\u001b[0;32m\nNOTE: If your import is failing due to a missing package, you can\nmanually install dependencies using either !pip or !apt.\n\nTo view examples of installing some common dependencies, click the\n\"Open Examples\" button below.\n\u001b[0;31m---------------------------------------------------------------------------\u001b[0m\n"
          ],
          "errorDetails": {
            "actions": [
              {
                "action": "open_url",
                "actionText": "Open Examples",
                "url": "/notebooks/snippets/importing_libraries.ipynb"
              }
            ]
          }
        }
      ]
    },
    {
      "cell_type": "code",
      "source": [
        "import numpy"
      ],
      "metadata": {
        "id": "2s7w-UKd-kn_"
      },
      "execution_count": 35,
      "outputs": []
    },
    {
      "cell_type": "markdown",
      "source": [
        "# **KeyError**"
      ],
      "metadata": {
        "id": "e8qseJJYLQWK"
      }
    },
    {
      "cell_type": "markdown",
      "source": [
        "![image.png](data:image/png;base64,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)"
      ],
      "metadata": {
        "id": "vQ1ZwU6tLp6r"
      }
    },
    {
      "cell_type": "code",
      "source": [
        "D1={'1':\"aa\", '2':\"bb\", '3':\"cc\"}\n",
        "D1['4']"
      ],
      "metadata": {
        "colab": {
          "base_uri": "https://localhost:8080/",
          "height": 193
        },
        "id": "RdZvizIL-snB",
        "outputId": "acf15674-657b-4dd7-bfe0-3f69327e5d44"
      },
      "execution_count": 7,
      "outputs": [
        {
          "output_type": "error",
          "ename": "KeyError",
          "evalue": "'4'",
          "traceback": [
            "\u001b[0;31m---------------------------------------------------------------------------\u001b[0m",
            "\u001b[0;31mKeyError\u001b[0m                                  Traceback (most recent call last)",
            "\u001b[0;32m<ipython-input-7-5b6257ee76ed>\u001b[0m in \u001b[0;36m<cell line: 2>\u001b[0;34m()\u001b[0m\n\u001b[1;32m      1\u001b[0m \u001b[0mD1\u001b[0m\u001b[0;34m=\u001b[0m\u001b[0;34m{\u001b[0m\u001b[0;34m'1'\u001b[0m\u001b[0;34m:\u001b[0m\u001b[0;34m\"aa\"\u001b[0m\u001b[0;34m,\u001b[0m \u001b[0;34m'2'\u001b[0m\u001b[0;34m:\u001b[0m\u001b[0;34m\"bb\"\u001b[0m\u001b[0;34m,\u001b[0m \u001b[0;34m'3'\u001b[0m\u001b[0;34m:\u001b[0m\u001b[0;34m\"cc\"\u001b[0m\u001b[0;34m}\u001b[0m\u001b[0;34m\u001b[0m\u001b[0;34m\u001b[0m\u001b[0m\n\u001b[0;32m----> 2\u001b[0;31m \u001b[0mD1\u001b[0m\u001b[0;34m[\u001b[0m\u001b[0;34m'4'\u001b[0m\u001b[0;34m]\u001b[0m\u001b[0;34m\u001b[0m\u001b[0;34m\u001b[0m\u001b[0m\n\u001b[0m",
            "\u001b[0;31mKeyError\u001b[0m: '4'"
          ]
        }
      ]
    },
    {
      "cell_type": "code",
      "source": [
        "D1['3']"
      ],
      "metadata": {
        "colab": {
          "base_uri": "https://localhost:8080/",
          "height": 35
        },
        "id": "y7RsM_wS-zlA",
        "outputId": "51c46f09-e70a-446b-b989-7f9fe44f6fed"
      },
      "execution_count": 8,
      "outputs": [
        {
          "output_type": "execute_result",
          "data": {
            "text/plain": [
              "'cc'"
            ],
            "application/vnd.google.colaboratory.intrinsic+json": {
              "type": "string"
            }
          },
          "metadata": {},
          "execution_count": 8
        }
      ]
    },
    {
      "cell_type": "code",
      "source": [
        "D1={'1':'aa', '2':'bb', '3':'cc'}\n",
        "D1['3']"
      ],
      "metadata": {
        "colab": {
          "base_uri": "https://localhost:8080/",
          "height": 35
        },
        "id": "2Sxgn3g7L5Wa",
        "outputId": "ddf5502a-7e84-4db7-d103-481ffb20eeb0"
      },
      "execution_count": 36,
      "outputs": [
        {
          "output_type": "execute_result",
          "data": {
            "text/plain": [
              "'cc'"
            ],
            "application/vnd.google.colaboratory.intrinsic+json": {
              "type": "string"
            }
          },
          "metadata": {},
          "execution_count": 36
        }
      ]
    },
    {
      "cell_type": "markdown",
      "source": [
        "# **IndentationError**"
      ],
      "metadata": {
        "id": "X-X98cm9MGzz"
      }
    },
    {
      "cell_type": "markdown",
      "source": [
        "![image.png](data:image/png;base64,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)"
      ],
      "metadata": {
        "id": "ztp0DbEgMYIv"
      }
    },
    {
      "cell_type": "code",
      "source": [
        "i=0\n",
        "while i<4:\n",
        "print(i)\n",
        "i+=1"
      ],
      "metadata": {
        "colab": {
          "base_uri": "https://localhost:8080/",
          "height": 141
        },
        "id": "rMPapESI-7u8",
        "outputId": "51423b31-64f7-43ea-bb20-50f2eea38b19"
      },
      "execution_count": 11,
      "outputs": [
        {
          "output_type": "error",
          "ename": "IndentationError",
          "evalue": "expected an indented block after 'while' statement on line 2 (<ipython-input-11-d60c5ca99d6d>, line 3)",
          "traceback": [
            "\u001b[0;36m  File \u001b[0;32m\"<ipython-input-11-d60c5ca99d6d>\"\u001b[0;36m, line \u001b[0;32m3\u001b[0m\n\u001b[0;31m    print(i)\u001b[0m\n\u001b[0m    ^\u001b[0m\n\u001b[0;31mIndentationError\u001b[0m\u001b[0;31m:\u001b[0m expected an indented block after 'while' statement on line 2\n"
          ]
        }
      ]
    },
    {
      "cell_type": "code",
      "source": [
        "i=0\n",
        "while i<4:\n",
        "  print(i)\n",
        "  i+=1"
      ],
      "metadata": {
        "colab": {
          "base_uri": "https://localhost:8080/"
        },
        "id": "STiySEXM_F9t",
        "outputId": "d930f9fd-a83c-4822-f128-15f3ba18c013"
      },
      "execution_count": 12,
      "outputs": [
        {
          "output_type": "stream",
          "name": "stdout",
          "text": [
            "0\n",
            "1\n",
            "2\n",
            "3\n"
          ]
        }
      ]
    },
    {
      "cell_type": "markdown",
      "source": [
        "# **ImportError**"
      ],
      "metadata": {
        "id": "6E2xH6XQMiT-"
      }
    },
    {
      "cell_type": "code",
      "source": [
        "from math import cube\n"
      ],
      "metadata": {
        "colab": {
          "base_uri": "https://localhost:8080/",
          "height": 315
        },
        "id": "kL7Mg169_WHt",
        "outputId": "528ae17a-9b8f-4def-d64d-5501718baad5"
      },
      "execution_count": 13,
      "outputs": [
        {
          "output_type": "error",
          "ename": "ImportError",
          "evalue": "cannot import name 'cube' from 'math' (unknown location)",
          "traceback": [
            "\u001b[0;31m---------------------------------------------------------------------------\u001b[0m",
            "\u001b[0;31mImportError\u001b[0m                               Traceback (most recent call last)",
            "\u001b[0;32m<ipython-input-13-ffce77e55cf3>\u001b[0m in \u001b[0;36m<cell line: 1>\u001b[0;34m()\u001b[0m\n\u001b[0;32m----> 1\u001b[0;31m \u001b[0;32mfrom\u001b[0m \u001b[0mmath\u001b[0m \u001b[0;32mimport\u001b[0m \u001b[0mcube\u001b[0m\u001b[0;34m\u001b[0m\u001b[0;34m\u001b[0m\u001b[0m\n\u001b[0m",
            "\u001b[0;31mImportError\u001b[0m: cannot import name 'cube' from 'math' (unknown location)",
            "",
            "\u001b[0;31m---------------------------------------------------------------------------\u001b[0;32m\nNOTE: If your import is failing due to a missing package, you can\nmanually install dependencies using either !pip or !apt.\n\nTo view examples of installing some common dependencies, click the\n\"Open Examples\" button below.\n\u001b[0;31m---------------------------------------------------------------------------\u001b[0m\n"
          ],
          "errorDetails": {
            "actions": [
              {
                "action": "open_url",
                "actionText": "Open Examples",
                "url": "/notebooks/snippets/importing_libraries.ipynb"
              }
            ]
          }
        }
      ]
    },
    {
      "cell_type": "code",
      "source": [
        "from math import pi\n"
      ],
      "metadata": {
        "id": "VPBDvYjr_XoB"
      },
      "execution_count": 14,
      "outputs": []
    },
    {
      "cell_type": "markdown",
      "source": [
        "# **StopIteration**"
      ],
      "metadata": {
        "id": "ITYclh8xMqlU"
      }
    },
    {
      "cell_type": "code",
      "source": [
        "it=iter([1,2,3])\n",
        "next(it)\n",
        "next(it)\n",
        "next(it)\n",
        "next(it)"
      ],
      "metadata": {
        "colab": {
          "base_uri": "https://localhost:8080/",
          "height": 211
        },
        "id": "_CPMm9GK_eDX",
        "outputId": "e8f4683b-3593-462f-c700-a41357480fb5"
      },
      "execution_count": 15,
      "outputs": [
        {
          "output_type": "error",
          "ename": "StopIteration",
          "evalue": "",
          "traceback": [
            "\u001b[0;31m---------------------------------------------------------------------------\u001b[0m",
            "\u001b[0;31mStopIteration\u001b[0m                             Traceback (most recent call last)",
            "\u001b[0;32m<ipython-input-15-1e090b245ab9>\u001b[0m in \u001b[0;36m<cell line: 5>\u001b[0;34m()\u001b[0m\n\u001b[1;32m      3\u001b[0m \u001b[0mnext\u001b[0m\u001b[0;34m(\u001b[0m\u001b[0mit\u001b[0m\u001b[0;34m)\u001b[0m\u001b[0;34m\u001b[0m\u001b[0;34m\u001b[0m\u001b[0m\n\u001b[1;32m      4\u001b[0m \u001b[0mnext\u001b[0m\u001b[0;34m(\u001b[0m\u001b[0mit\u001b[0m\u001b[0;34m)\u001b[0m\u001b[0;34m\u001b[0m\u001b[0;34m\u001b[0m\u001b[0m\n\u001b[0;32m----> 5\u001b[0;31m \u001b[0mnext\u001b[0m\u001b[0;34m(\u001b[0m\u001b[0mit\u001b[0m\u001b[0;34m)\u001b[0m\u001b[0;34m\u001b[0m\u001b[0;34m\u001b[0m\u001b[0m\n\u001b[0m",
            "\u001b[0;31mStopIteration\u001b[0m: "
          ]
        }
      ]
    },
    {
      "cell_type": "markdown",
      "source": [
        "it=iter([1,2,3]) : Cette ligne crée un itérateur nommé it à partir de la liste [1, 2, 3]. Un itérateur est un objet qui permet de parcourir, un par un, les éléments d'un conteneur (comme une liste). Dans ce cas, it est un itérateur qui va permettre de parcourir les éléments 1, 2 et 3.\n",
        "\n",
        "next(it) : Lorsque cette ligne est exécutée pour la première fois, elle renvoie le premier élément de l'itérateur, qui est 1. Après avoir renvoyé cet élément, l'itérateur passe au suivant dans la liste."
      ],
      "metadata": {
        "id": "vS_bnn4-NMlO"
      }
    },
    {
      "cell_type": "code",
      "source": [
        "it=iter([1,2,3])\n",
        "next(it)\n",
        "next(it)\n",
        "next(it)\n"
      ],
      "metadata": {
        "colab": {
          "base_uri": "https://localhost:8080/"
        },
        "id": "-dRd7175_j1K",
        "outputId": "219d3f12-0313-4840-dbb4-c03f755a2203"
      },
      "execution_count": 16,
      "outputs": [
        {
          "output_type": "execute_result",
          "data": {
            "text/plain": [
              "3"
            ]
          },
          "metadata": {},
          "execution_count": 16
        }
      ]
    },
    {
      "cell_type": "markdown",
      "source": [
        "\n",
        "# **TypeError**"
      ],
      "metadata": {
        "id": "5efV0itlNTI3"
      }
    },
    {
      "cell_type": "code",
      "source": [
        " 'jhsqdkjdkqfjqksdj2'+2"
      ],
      "metadata": {
        "colab": {
          "base_uri": "https://localhost:8080/",
          "height": 176
        },
        "id": "TOMtV_oE_st0",
        "outputId": "d068dcaa-68ac-4ee8-e1a4-79a450ecdce5"
      },
      "execution_count": 18,
      "outputs": [
        {
          "output_type": "error",
          "ename": "TypeError",
          "evalue": "can only concatenate str (not \"int\") to str",
          "traceback": [
            "\u001b[0;31m---------------------------------------------------------------------------\u001b[0m",
            "\u001b[0;31mTypeError\u001b[0m                                 Traceback (most recent call last)",
            "\u001b[0;32m<ipython-input-18-2a7a8d9b15f9>\u001b[0m in \u001b[0;36m<cell line: 1>\u001b[0;34m()\u001b[0m\n\u001b[0;32m----> 1\u001b[0;31m \u001b[0;34m'jhsqdkjdkqfjqksdj2'\u001b[0m\u001b[0;34m+\u001b[0m\u001b[0;36m2\u001b[0m\u001b[0;34m\u001b[0m\u001b[0;34m\u001b[0m\u001b[0m\n\u001b[0m",
            "\u001b[0;31mTypeError\u001b[0m: can only concatenate str (not \"int\") to str"
          ]
        }
      ]
    },
    {
      "cell_type": "code",
      "source": [
        " '2'+'2'"
      ],
      "metadata": {
        "colab": {
          "base_uri": "https://localhost:8080/",
          "height": 35
        },
        "id": "Rp9rn8N__xz_",
        "outputId": "cbde5de6-9599-464d-df18-8cc39bcecf8d"
      },
      "execution_count": 19,
      "outputs": [
        {
          "output_type": "execute_result",
          "data": {
            "text/plain": [
              "'22'"
            ],
            "application/vnd.google.colaboratory.intrinsic+json": {
              "type": "string"
            }
          },
          "metadata": {},
          "execution_count": 19
        }
      ]
    },
    {
      "cell_type": "code",
      "source": [
        " 2+2"
      ],
      "metadata": {
        "colab": {
          "base_uri": "https://localhost:8080/"
        },
        "id": "FK15_89s_2E2",
        "outputId": "d380fb71-f202-4952-a871-5d84396fd395"
      },
      "execution_count": 20,
      "outputs": [
        {
          "output_type": "execute_result",
          "data": {
            "text/plain": [
              "4"
            ]
          },
          "metadata": {},
          "execution_count": 20
        }
      ]
    },
    {
      "cell_type": "markdown",
      "source": [
        "# **ValueError **"
      ],
      "metadata": {
        "id": "RtE5XCuzNe7f"
      }
    },
    {
      "cell_type": "code",
      "source": [
        "int('xyz')\n"
      ],
      "metadata": {
        "colab": {
          "base_uri": "https://localhost:8080/",
          "height": 176
        },
        "id": "luXXw1zx_7tV",
        "outputId": "12ad3094-c8fd-4158-b84d-c78fffe9f5dc"
      },
      "execution_count": 21,
      "outputs": [
        {
          "output_type": "error",
          "ename": "ValueError",
          "evalue": "invalid literal for int() with base 10: 'xyz'",
          "traceback": [
            "\u001b[0;31m---------------------------------------------------------------------------\u001b[0m",
            "\u001b[0;31mValueError\u001b[0m                                Traceback (most recent call last)",
            "\u001b[0;32m<ipython-input-21-f9171139ba2a>\u001b[0m in \u001b[0;36m<cell line: 1>\u001b[0;34m()\u001b[0m\n\u001b[0;32m----> 1\u001b[0;31m \u001b[0mint\u001b[0m\u001b[0;34m(\u001b[0m\u001b[0;34m'xyz'\u001b[0m\u001b[0;34m)\u001b[0m\u001b[0;34m\u001b[0m\u001b[0;34m\u001b[0m\u001b[0m\n\u001b[0m",
            "\u001b[0;31mValueError\u001b[0m: invalid literal for int() with base 10: 'xyz'"
          ]
        }
      ]
    },
    {
      "cell_type": "code",
      "source": [
        "int('4')\n"
      ],
      "metadata": {
        "colab": {
          "base_uri": "https://localhost:8080/"
        },
        "id": "inPXpWKnAUUm",
        "outputId": "d18fae65-f469-4a8b-97d6-433b68269a2d"
      },
      "execution_count": 38,
      "outputs": [
        {
          "output_type": "execute_result",
          "data": {
            "text/plain": [
              "4"
            ]
          },
          "metadata": {},
          "execution_count": 38
        }
      ]
    },
    {
      "cell_type": "code",
      "source": [
        "float('23.4C')"
      ],
      "metadata": {
        "colab": {
          "base_uri": "https://localhost:8080/",
          "height": 176
        },
        "id": "0eU2wUUfAYHh",
        "outputId": "878ccb15-01c9-4f7e-c058-6efcfc7f5b5f"
      },
      "execution_count": 39,
      "outputs": [
        {
          "output_type": "error",
          "ename": "ValueError",
          "evalue": "could not convert string to float: '23.4C'",
          "traceback": [
            "\u001b[0;31m---------------------------------------------------------------------------\u001b[0m",
            "\u001b[0;31mValueError\u001b[0m                                Traceback (most recent call last)",
            "\u001b[0;32m<ipython-input-39-bc4878e7b5fe>\u001b[0m in \u001b[0;36m<cell line: 1>\u001b[0;34m()\u001b[0m\n\u001b[0;32m----> 1\u001b[0;31m \u001b[0mfloat\u001b[0m\u001b[0;34m(\u001b[0m\u001b[0;34m'23.4C'\u001b[0m\u001b[0;34m)\u001b[0m\u001b[0;34m\u001b[0m\u001b[0;34m\u001b[0m\u001b[0m\n\u001b[0m",
            "\u001b[0;31mValueError\u001b[0m: could not convert string to float: '23.4C'"
          ]
        }
      ]
    },
    {
      "cell_type": "code",
      "source": [
        "float('23.4')"
      ],
      "metadata": {
        "colab": {
          "base_uri": "https://localhost:8080/"
        },
        "id": "DwVsKpuLNpiZ",
        "outputId": "b5ccb650-c13f-40eb-e323-e2c63f717ac0"
      },
      "execution_count": 40,
      "outputs": [
        {
          "output_type": "execute_result",
          "data": {
            "text/plain": [
              "23.4"
            ]
          },
          "metadata": {},
          "execution_count": 40
        }
      ]
    },
    {
      "cell_type": "code",
      "source": [
        "str('ee')"
      ],
      "metadata": {
        "colab": {
          "base_uri": "https://localhost:8080/",
          "height": 35
        },
        "id": "AHNMPf-0AXeY",
        "outputId": "7b3d2f48-fb49-46a1-e680-ef52294d24e4"
      },
      "execution_count": 43,
      "outputs": [
        {
          "output_type": "execute_result",
          "data": {
            "text/plain": [
              "'ee'"
            ],
            "application/vnd.google.colaboratory.intrinsic+json": {
              "type": "string"
            }
          },
          "metadata": {},
          "execution_count": 43
        }
      ]
    },
    {
      "cell_type": "markdown",
      "source": [],
      "metadata": {
        "id": "6iBn_k2zN5Gu"
      }
    },
    {
      "cell_type": "markdown",
      "source": [
        "# **NameError**\n",
        "\n"
      ],
      "metadata": {
        "id": "f9VFtV9ON417"
      }
    },
    {
      "cell_type": "code",
      "source": [
        "age\n"
      ],
      "metadata": {
        "colab": {
          "base_uri": "https://localhost:8080/",
          "height": 176
        },
        "id": "xQaso5WFA2cw",
        "outputId": "61bcd9c9-4ef9-4bec-d602-c70ad78ebb1e"
      },
      "execution_count": 25,
      "outputs": [
        {
          "output_type": "error",
          "ename": "NameError",
          "evalue": "name 'age' is not defined",
          "traceback": [
            "\u001b[0;31m---------------------------------------------------------------------------\u001b[0m",
            "\u001b[0;31mNameError\u001b[0m                                 Traceback (most recent call last)",
            "\u001b[0;32m<ipython-input-25-d075b0315d53>\u001b[0m in \u001b[0;36m<cell line: 1>\u001b[0;34m()\u001b[0m\n\u001b[0;32m----> 1\u001b[0;31m \u001b[0mage\u001b[0m\u001b[0;34m\u001b[0m\u001b[0;34m\u001b[0m\u001b[0m\n\u001b[0m",
            "\u001b[0;31mNameError\u001b[0m: name 'age' is not defined"
          ]
        }
      ]
    },
    {
      "cell_type": "markdown",
      "source": [
        "# **ZeroDivisionError**"
      ],
      "metadata": {
        "id": "vlpf5mU2ODg6"
      }
    },
    {
      "cell_type": "code",
      "source": [
        "x=100/0"
      ],
      "metadata": {
        "colab": {
          "base_uri": "https://localhost:8080/",
          "height": 176
        },
        "id": "imsMu-9RA6ur",
        "outputId": "e14b3d84-ae4c-4e62-e955-e1bf8f5dd787"
      },
      "execution_count": 26,
      "outputs": [
        {
          "output_type": "error",
          "ename": "ZeroDivisionError",
          "evalue": "division by zero",
          "traceback": [
            "\u001b[0;31m---------------------------------------------------------------------------\u001b[0m",
            "\u001b[0;31mZeroDivisionError\u001b[0m                         Traceback (most recent call last)",
            "\u001b[0;32m<ipython-input-26-fc4fba679132>\u001b[0m in \u001b[0;36m<cell line: 1>\u001b[0;34m()\u001b[0m\n\u001b[0;32m----> 1\u001b[0;31m \u001b[0mx\u001b[0m\u001b[0;34m=\u001b[0m\u001b[0;36m100\u001b[0m\u001b[0;34m/\u001b[0m\u001b[0;36m0\u001b[0m\u001b[0;34m\u001b[0m\u001b[0;34m\u001b[0m\u001b[0m\n\u001b[0m",
            "\u001b[0;31mZeroDivisionError\u001b[0m: division by zero"
          ]
        }
      ]
    },
    {
      "cell_type": "markdown",
      "source": [
        "# **KeyboardInterrupt**"
      ],
      "metadata": {
        "id": "Bq9PjJKMOKqM"
      }
    },
    {
      "cell_type": "code",
      "source": [
        "name=input('enter your name')"
      ],
      "metadata": {
        "colab": {
          "base_uri": "https://localhost:8080/"
        },
        "id": "qR2nQPnKOMIv",
        "outputId": "909d837e-0dae-448e-eb92-87fcb296bd7b"
      },
      "execution_count": 44,
      "outputs": [
        {
          "name": "stdout",
          "output_type": "stream",
          "text": [
            "enter your nameksjdjlfdsjsj'jfkjgnjgndj\"fdlskk\n"
          ]
        }
      ]
    },
    {
      "cell_type": "code",
      "source": [
        "name=input('enter your name')"
      ],
      "metadata": {
        "colab": {
          "base_uri": "https://localhost:8080/",
          "height": 339
        },
        "id": "9zXp_r22OUrB",
        "outputId": "ba6e1332-3377-456c-bca9-6fa59a61b826"
      },
      "execution_count": 50,
      "outputs": [
        {
          "output_type": "error",
          "ename": "KeyboardInterrupt",
          "evalue": "Interrupted by user",
          "traceback": [
            "\u001b[0;31m---------------------------------------------------------------------------\u001b[0m",
            "\u001b[0;31mKeyboardInterrupt\u001b[0m                         Traceback (most recent call last)",
            "\u001b[0;32m<ipython-input-50-a50f6d65b0fa>\u001b[0m in \u001b[0;36m<cell line: 1>\u001b[0;34m()\u001b[0m\n\u001b[0;32m----> 1\u001b[0;31m \u001b[0mname\u001b[0m\u001b[0;34m=\u001b[0m\u001b[0minput\u001b[0m\u001b[0;34m(\u001b[0m\u001b[0;34m'enter your name'\u001b[0m\u001b[0;34m)\u001b[0m\u001b[0;34m\u001b[0m\u001b[0;34m\u001b[0m\u001b[0m\n\u001b[0m",
            "\u001b[0;32m/usr/local/lib/python3.10/dist-packages/ipykernel/kernelbase.py\u001b[0m in \u001b[0;36mraw_input\u001b[0;34m(self, prompt)\u001b[0m\n\u001b[1;32m    849\u001b[0m                 \u001b[0;34m\"raw_input was called, but this frontend does not support input requests.\"\u001b[0m\u001b[0;34m\u001b[0m\u001b[0;34m\u001b[0m\u001b[0m\n\u001b[1;32m    850\u001b[0m             )\n\u001b[0;32m--> 851\u001b[0;31m         return self._input_request(str(prompt),\n\u001b[0m\u001b[1;32m    852\u001b[0m             \u001b[0mself\u001b[0m\u001b[0;34m.\u001b[0m\u001b[0m_parent_ident\u001b[0m\u001b[0;34m,\u001b[0m\u001b[0;34m\u001b[0m\u001b[0;34m\u001b[0m\u001b[0m\n\u001b[1;32m    853\u001b[0m             \u001b[0mself\u001b[0m\u001b[0;34m.\u001b[0m\u001b[0m_parent_header\u001b[0m\u001b[0;34m,\u001b[0m\u001b[0;34m\u001b[0m\u001b[0;34m\u001b[0m\u001b[0m\n",
            "\u001b[0;32m/usr/local/lib/python3.10/dist-packages/ipykernel/kernelbase.py\u001b[0m in \u001b[0;36m_input_request\u001b[0;34m(self, prompt, ident, parent, password)\u001b[0m\n\u001b[1;32m    893\u001b[0m             \u001b[0;32mexcept\u001b[0m \u001b[0mKeyboardInterrupt\u001b[0m\u001b[0;34m:\u001b[0m\u001b[0;34m\u001b[0m\u001b[0;34m\u001b[0m\u001b[0m\n\u001b[1;32m    894\u001b[0m                 \u001b[0;31m# re-raise KeyboardInterrupt, to truncate traceback\u001b[0m\u001b[0;34m\u001b[0m\u001b[0;34m\u001b[0m\u001b[0m\n\u001b[0;32m--> 895\u001b[0;31m                 \u001b[0;32mraise\u001b[0m \u001b[0mKeyboardInterrupt\u001b[0m\u001b[0;34m(\u001b[0m\u001b[0;34m\"Interrupted by user\"\u001b[0m\u001b[0;34m)\u001b[0m \u001b[0;32mfrom\u001b[0m \u001b[0;32mNone\u001b[0m\u001b[0;34m\u001b[0m\u001b[0;34m\u001b[0m\u001b[0m\n\u001b[0m\u001b[1;32m    896\u001b[0m             \u001b[0;32mexcept\u001b[0m \u001b[0mException\u001b[0m \u001b[0;32mas\u001b[0m \u001b[0me\u001b[0m\u001b[0;34m:\u001b[0m\u001b[0;34m\u001b[0m\u001b[0;34m\u001b[0m\u001b[0m\n\u001b[1;32m    897\u001b[0m                 \u001b[0mself\u001b[0m\u001b[0;34m.\u001b[0m\u001b[0mlog\u001b[0m\u001b[0;34m.\u001b[0m\u001b[0mwarning\u001b[0m\u001b[0;34m(\u001b[0m\u001b[0;34m\"Invalid Message:\"\u001b[0m\u001b[0;34m,\u001b[0m \u001b[0mexc_info\u001b[0m\u001b[0;34m=\u001b[0m\u001b[0;32mTrue\u001b[0m\u001b[0;34m)\u001b[0m\u001b[0;34m\u001b[0m\u001b[0;34m\u001b[0m\u001b[0m\n",
            "\u001b[0;31mKeyboardInterrupt\u001b[0m: Interrupted by user"
          ]
        }
      ]
    },
    {
      "cell_type": "markdown",
      "source": [
        "\n",
        "# **Other Error Types**"
      ],
      "metadata": {
        "id": "oD7BrKYsO3G3"
      }
    },
    {
      "cell_type": "markdown",
      "source": [
        "![image.png](data:image/png;base64,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)"
      ],
      "metadata": {
        "id": "jx6rTtNIPdW_"
      }
    }
  ]
}