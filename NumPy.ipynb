{
  "nbformat": 4,
  "nbformat_minor": 0,
  "metadata": {
    "colab": {
      "provenance": [],
      "include_colab_link": true
    },
    "kernelspec": {
      "name": "python3",
      "display_name": "Python 3"
    },
    "language_info": {
      "name": "python"
    }
  },
  "cells": [
    {
      "cell_type": "markdown",
      "metadata": {
        "id": "view-in-github",
        "colab_type": "text"
      },
      "source": [
        "<a href=\"https://colab.research.google.com/github/nihel-sliti/formationPython/blob/main/NumPy.ipynb\" target=\"_parent\"><img src=\"https://colab.research.google.com/assets/colab-badge.svg\" alt=\"Open In Colab\"/></a>"
      ]
    },
    {
      "cell_type": "markdown",
      "source": [
        "# **Creating NumPy Arrays**"
      ],
      "metadata": {
        "id": "DLjbQMb4GPoT"
      }
    },
    {
      "cell_type": "code",
      "execution_count": 1,
      "metadata": {
        "id": "ExY7wBxZGL30"
      },
      "outputs": [],
      "source": [
        "import numpy as np"
      ]
    },
    {
      "cell_type": "markdown",
      "source": [
        "Now, let’s define a new array.\n",
        "\n",
        "One-dimensional array:"
      ],
      "metadata": {
        "id": "EKtl3bzMGZlQ"
      }
    },
    {
      "cell_type": "code",
      "source": [
        "amal=np.array([1,2,3])\n",
        "amal"
      ],
      "metadata": {
        "colab": {
          "base_uri": "https://localhost:8080/"
        },
        "id": "DZpA0t4BGdAs",
        "outputId": "077f0e75-f80a-445e-a929-b545ab8ce3e4"
      },
      "execution_count": 2,
      "outputs": [
        {
          "output_type": "execute_result",
          "data": {
            "text/plain": [
              "array([1, 2, 3])"
            ]
          },
          "metadata": {},
          "execution_count": 2
        }
      ]
    },
    {
      "cell_type": "markdown",
      "source": [
        "Multidimensional array:"
      ],
      "metadata": {
        "id": "MUfdOT-2G8A7"
      }
    },
    {
      "cell_type": "code",
      "source": [
        "amal=np.array([[1,2,3],[22,4,6]])\n",
        "amal"
      ],
      "metadata": {
        "colab": {
          "base_uri": "https://localhost:8080/"
        },
        "id": "DBBgK6J_G6DA",
        "outputId": "060d9b40-0843-4cee-fccd-aa70d9e04ad1"
      },
      "execution_count": 3,
      "outputs": [
        {
          "output_type": "execute_result",
          "data": {
            "text/plain": [
              "array([[ 1,  2,  3],\n",
              "       [22,  4,  6]])"
            ]
          },
          "metadata": {},
          "execution_count": 3
        }
      ]
    },
    {
      "cell_type": "markdown",
      "source": [
        "# **Array Shape/Reshape**"
      ],
      "metadata": {
        "id": "caT-uT1-IaoK"
      }
    },
    {
      "cell_type": "markdown",
      "source": [
        "** Shape**"
      ],
      "metadata": {
        "id": "wK35kybWI0V5"
      }
    },
    {
      "cell_type": "markdown",
      "source": [
        "The shape of an array is the number of elements in each dimension.\n",
        "\n",
        "To get the current shape of an array, we use the shape() function, it returns a tuple with each index having the number of corresponding elements."
      ],
      "metadata": {
        "id": "WWxqbxVJItNx"
      }
    },
    {
      "cell_type": "code",
      "source": [
        "amal.shape"
      ],
      "metadata": {
        "colab": {
          "base_uri": "https://localhost:8080/"
        },
        "id": "H0XtugwgIcsT",
        "outputId": "b82db674-adfd-4ee2-9123-8544674c48aa"
      },
      "execution_count": 4,
      "outputs": [
        {
          "output_type": "execute_result",
          "data": {
            "text/plain": [
              "(2, 3)"
            ]
          },
          "metadata": {},
          "execution_count": 4
        }
      ]
    },
    {
      "cell_type": "markdown",
      "source": [
        "**Array Reshape**"
      ],
      "metadata": {
        "id": "3F1Gk-3JIyKJ"
      }
    },
    {
      "cell_type": "markdown",
      "source": [
        "Note that b is now a two-dimensiona array with 4 rows and 2 columns.\n"
      ],
      "metadata": {
        "id": "u8evhTI9JoBO"
      }
    },
    {
      "cell_type": "code",
      "source": [
        "a=np.array([0,0,0,0,1,0,0,0])"
      ],
      "metadata": {
        "id": "COYxcrFwI6Jf"
      },
      "execution_count": 5,
      "outputs": []
    },
    {
      "cell_type": "code",
      "source": [
        "b = a.reshape(4,2)\n",
        "b"
      ],
      "metadata": {
        "colab": {
          "base_uri": "https://localhost:8080/"
        },
        "id": "zkyRr4FSJFaa",
        "outputId": "706b48f1-7b0c-4de1-8530-8233d11bee15"
      },
      "execution_count": 6,
      "outputs": [
        {
          "output_type": "execute_result",
          "data": {
            "text/plain": [
              "array([[0, 0],\n",
              "       [0, 0],\n",
              "       [1, 0],\n",
              "       [0, 0]])"
            ]
          },
          "metadata": {},
          "execution_count": 6
        }
      ]
    },
    {
      "cell_type": "markdown",
      "source": [
        "# **Array Indexing in NumPy**"
      ],
      "metadata": {
        "id": "6T77YQFhKKPn"
      }
    },
    {
      "cell_type": "markdown",
      "source": [
        "Remember that arrays in Python always start with 0."
      ],
      "metadata": {
        "id": "eqCrEHiZLcwk"
      }
    },
    {
      "cell_type": "code",
      "source": [
        "print(b[2,0])"
      ],
      "metadata": {
        "colab": {
          "base_uri": "https://localhost:8080/"
        },
        "id": "6iAnFRlNKPjG",
        "outputId": "c5376766-bf5e-4500-be50-3bb58a01ac8d"
      },
      "execution_count": 7,
      "outputs": [
        {
          "output_type": "stream",
          "name": "stdout",
          "text": [
            "1\n"
          ]
        }
      ]
    },
    {
      "cell_type": "markdown",
      "source": [
        "# **Array Slicing in NumPy**"
      ],
      "metadata": {
        "id": "SX9CC27oL3lK"
      }
    },
    {
      "cell_type": "markdown",
      "source": [
        "**Row selection**"
      ],
      "metadata": {
        "id": "4rwLcBZqL9s4"
      }
    },
    {
      "cell_type": "code",
      "source": [
        "print(b[2,:])"
      ],
      "metadata": {
        "colab": {
          "base_uri": "https://localhost:8080/"
        },
        "id": "I66uZQ63L5Aj",
        "outputId": "9c8cc8e7-2859-4026-884d-2cb645a7ba3c"
      },
      "execution_count": 8,
      "outputs": [
        {
          "output_type": "stream",
          "name": "stdout",
          "text": [
            "[1 0]\n"
          ]
        }
      ]
    },
    {
      "cell_type": "markdown",
      "source": [
        " **Column selection**"
      ],
      "metadata": {
        "id": "xZ4MMHnSNgS6"
      }
    },
    {
      "cell_type": "code",
      "source": [
        "print(b[:, 1])"
      ],
      "metadata": {
        "colab": {
          "base_uri": "https://localhost:8080/"
        },
        "id": "oa2GfjsfN_wS",
        "outputId": "2216901b-fbc7-4f9b-b57d-7bd1f6d094d3"
      },
      "execution_count": 9,
      "outputs": [
        {
          "output_type": "stream",
          "name": "stdout",
          "text": [
            "[0 0 0 0]\n"
          ]
        }
      ]
    },
    {
      "cell_type": "markdown",
      "source": [
        "# **NumPy Random**"
      ],
      "metadata": {
        "id": "pK35SJmlQbVz"
      }
    },
    {
      "cell_type": "code",
      "source": [
        "import numpy as np\n",
        "value=np.random.random()\n",
        "print(value)"
      ],
      "metadata": {
        "colab": {
          "base_uri": "https://localhost:8080/"
        },
        "id": "MOJncIZ6Qh-A",
        "outputId": "b13b298b-d9cc-47d8-d35f-df8cc25fcef3"
      },
      "execution_count": 10,
      "outputs": [
        {
          "output_type": "stream",
          "name": "stdout",
          "text": [
            "0.486779101430572\n"
          ]
        }
      ]
    },
    {
      "cell_type": "markdown",
      "source": [
        "We can also create arrays that contain random values between 0 and 1 by specifying the shape of the array:"
      ],
      "metadata": {
        "id": "q5I2lqflTkur"
      }
    },
    {
      "cell_type": "code",
      "source": [
        "array=np.random.random((2,5))\n",
        "print(array)"
      ],
      "metadata": {
        "colab": {
          "base_uri": "https://localhost:8080/"
        },
        "id": "rlBpMkCCQ_vt",
        "outputId": "c5f53783-7bfb-4b83-9d76-e1db31681730"
      },
      "execution_count": 11,
      "outputs": [
        {
          "output_type": "stream",
          "name": "stdout",
          "text": [
            "[[0.63133291 0.37152393 0.09286076 0.02387162 0.54581812]\n",
            " [0.19652612 0.98110955 0.44184167 0.45855322 0.50325041]]\n"
          ]
        }
      ]
    },
    {
      "cell_type": "markdown",
      "source": [
        "**Randint**"
      ],
      "metadata": {
        "id": "XMS2bN2wTuhQ"
      }
    },
    {
      "cell_type": "markdown",
      "source": [
        "With the random.randint() function we create an array that contains random integers between a minimum value and a maximum value with a specified shape:"
      ],
      "metadata": {
        "id": "iej3WA5OTecR"
      }
    },
    {
      "cell_type": "code",
      "source": [
        "array=np.random.randint(2, 10)\n",
        "print(array)"
      ],
      "metadata": {
        "colab": {
          "base_uri": "https://localhost:8080/"
        },
        "id": "wxhJV-r8TVzq",
        "outputId": "46b8d7de-1b5b-49cc-fd16-ca6865961236"
      },
      "execution_count": 12,
      "outputs": [
        {
          "output_type": "stream",
          "name": "stdout",
          "text": [
            "6\n"
          ]
        }
      ]
    },
    {
      "cell_type": "code",
      "source": [
        "array=np.random.randint(2, 10, size=(2,4))\n",
        "print(array)"
      ],
      "metadata": {
        "colab": {
          "base_uri": "https://localhost:8080/"
        },
        "id": "e1H5-nk5TYjZ",
        "outputId": "e0ce3702-96cc-4923-ab68-a6aefe798786"
      },
      "execution_count": 13,
      "outputs": [
        {
          "output_type": "stream",
          "name": "stdout",
          "text": [
            "[[9 2 4 3]\n",
            " [3 8 2 6]]\n"
          ]
        }
      ]
    },
    {
      "cell_type": "markdown",
      "source": [
        "# **Zeros and Full function**\n"
      ],
      "metadata": {
        "id": "UaGN9z6kUrC_"
      }
    },
    {
      "cell_type": "markdown",
      "source": [
        "The zeros function returns a new array of a given shape and type filled with zeros:"
      ],
      "metadata": {
        "id": "MTaGlzTeUuuX"
      }
    },
    {
      "cell_type": "code",
      "source": [
        "array=np.zeros(5)\n",
        "print(array)\n"
      ],
      "metadata": {
        "colab": {
          "base_uri": "https://localhost:8080/"
        },
        "id": "PNOI312cUzOw",
        "outputId": "817d65b5-a9b4-4a2f-eddb-7774a7000eff"
      },
      "execution_count": 14,
      "outputs": [
        {
          "output_type": "stream",
          "name": "stdout",
          "text": [
            "[0. 0. 0. 0. 0.]\n"
          ]
        }
      ]
    },
    {
      "cell_type": "code",
      "source": [
        "array=np.ones(5)\n",
        "print(array)"
      ],
      "metadata": {
        "colab": {
          "base_uri": "https://localhost:8080/"
        },
        "id": "B0jDwgKDVejP",
        "outputId": "642a0294-fef7-4847-a263-701e7d247281"
      },
      "execution_count": 15,
      "outputs": [
        {
          "output_type": "stream",
          "name": "stdout",
          "text": [
            "[1. 1. 1. 1. 1.]\n"
          ]
        }
      ]
    },
    {
      "cell_type": "code",
      "source": [
        "array=np.full(5, 1)\n",
        "print(array)"
      ],
      "metadata": {
        "colab": {
          "base_uri": "https://localhost:8080/"
        },
        "id": "9dDFM8QJU5qe",
        "outputId": "8fa9bacd-8123-4df1-edda-27959b9fbe29"
      },
      "execution_count": 16,
      "outputs": [
        {
          "output_type": "stream",
          "name": "stdout",
          "text": [
            "[1 1 1 1 1]\n"
          ]
        }
      ]
    },
    {
      "cell_type": "markdown",
      "source": [
        "The eye function returns a 2D array with ones on the diagonal and zeros elsewhere :"
      ],
      "metadata": {
        "id": "nPAT-b18VOH_"
      }
    },
    {
      "cell_type": "code",
      "source": [
        "array=np.eye(5)\n",
        "print(array)"
      ],
      "metadata": {
        "colab": {
          "base_uri": "https://localhost:8080/"
        },
        "id": "VPNPp6FKVO1F",
        "outputId": "543b091c-bd52-4650-e33e-7086281174b8"
      },
      "execution_count": 17,
      "outputs": [
        {
          "output_type": "stream",
          "name": "stdout",
          "text": [
            "[[1. 0. 0. 0. 0.]\n",
            " [0. 1. 0. 0. 0.]\n",
            " [0. 0. 1. 0. 0.]\n",
            " [0. 0. 0. 1. 0.]\n",
            " [0. 0. 0. 0. 1.]]\n"
          ]
        }
      ]
    },
    {
      "cell_type": "markdown",
      "source": [
        "# **NumPy Addition**"
      ],
      "metadata": {
        "id": "K1Qs_3VRVw-w"
      }
    },
    {
      "cell_type": "code",
      "source": [
        "x=np.array([[1,2],[3,4]], dtype=np.float64)\n",
        "y=np.array([[5,6],[7,8]], dtype=np.float64)\n",
        "print(x)\n",
        "print(y)"
      ],
      "metadata": {
        "colab": {
          "base_uri": "https://localhost:8080/"
        },
        "id": "sshtT36uV0Lk",
        "outputId": "ef75fdcc-c647-445d-978d-4560b088c01d"
      },
      "execution_count": 18,
      "outputs": [
        {
          "output_type": "stream",
          "name": "stdout",
          "text": [
            "[[1. 2.]\n",
            " [3. 4.]]\n",
            "[[5. 6.]\n",
            " [7. 8.]]\n"
          ]
        }
      ]
    },
    {
      "cell_type": "code",
      "source": [
        "A=np.add(x, y)\n",
        "A"
      ],
      "metadata": {
        "colab": {
          "base_uri": "https://localhost:8080/"
        },
        "id": "7Gq-osOVWJJB",
        "outputId": "32291765-fbfb-4b65-e5b3-b33e08f3a9bf"
      },
      "execution_count": 19,
      "outputs": [
        {
          "output_type": "execute_result",
          "data": {
            "text/plain": [
              "array([[ 6.,  8.],\n",
              "       [10., 12.]])"
            ]
          },
          "metadata": {},
          "execution_count": 19
        }
      ]
    },
    {
      "cell_type": "code",
      "source": [
        "A=x+y\n",
        "A"
      ],
      "metadata": {
        "colab": {
          "base_uri": "https://localhost:8080/"
        },
        "id": "VWJP8gRgWV0P",
        "outputId": "5544d82c-c81e-430b-fa46-2bf3fffbd62a"
      },
      "execution_count": 20,
      "outputs": [
        {
          "output_type": "execute_result",
          "data": {
            "text/plain": [
              "array([[ 6.,  8.],\n",
              "       [10., 12.]])"
            ]
          },
          "metadata": {},
          "execution_count": 20
        }
      ]
    },
    {
      "cell_type": "markdown",
      "source": [
        "# **NumPy Subtraction**"
      ],
      "metadata": {
        "id": "2WDFWEa6Wdrt"
      }
    },
    {
      "cell_type": "code",
      "source": [
        "Z=np.subtract(x, y)\n",
        "Z"
      ],
      "metadata": {
        "colab": {
          "base_uri": "https://localhost:8080/"
        },
        "id": "AW6RGR4tWez0",
        "outputId": "93751c93-6a7f-4b7d-8af6-0c143370963c"
      },
      "execution_count": 21,
      "outputs": [
        {
          "output_type": "execute_result",
          "data": {
            "text/plain": [
              "array([[-4., -4.],\n",
              "       [-4., -4.]])"
            ]
          },
          "metadata": {},
          "execution_count": 21
        }
      ]
    },
    {
      "cell_type": "code",
      "source": [
        "Z=x-y\n",
        "Z"
      ],
      "metadata": {
        "colab": {
          "base_uri": "https://localhost:8080/"
        },
        "id": "Ojc4WheuWjYu",
        "outputId": "6153a698-a040-4844-b118-82d146b7bcc3"
      },
      "execution_count": 22,
      "outputs": [
        {
          "output_type": "execute_result",
          "data": {
            "text/plain": [
              "array([[-4., -4.],\n",
              "       [-4., -4.]])"
            ]
          },
          "metadata": {},
          "execution_count": 22
        }
      ]
    }
  ]
}