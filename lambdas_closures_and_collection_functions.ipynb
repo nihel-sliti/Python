{
  "nbformat": 4,
  "nbformat_minor": 0,
  "metadata": {
    "colab": {
      "provenance": [],
      "authorship_tag": "ABX9TyN4g/nQWYJOJPUwgPhx1ebV",
      "include_colab_link": true
    },
    "kernelspec": {
      "name": "python3",
      "display_name": "Python 3"
    },
    "language_info": {
      "name": "python"
    }
  },
  "cells": [
    {
      "cell_type": "markdown",
      "metadata": {
        "id": "view-in-github",
        "colab_type": "text"
      },
      "source": [
        "<a href=\"https://colab.research.google.com/github/nihel-sliti/Python/blob/main/lambdas_closures_and_collection_functions.ipynb\" target=\"_parent\"><img src=\"https://colab.research.google.com/assets/colab-badge.svg\" alt=\"Open In Colab\"/></a>"
      ]
    },
    {
      "cell_type": "markdown",
      "source": [
        "# **A lambda function**\n",
        " A lambda function is a function without a name (you can also call it an anonymous function). Of course, such a statement immediately raises the question: how do you use anything that cannot be identified?\n",
        "\n",
        "Fortunately, it's not a problem, as you can name such a function if you really need, but, in fact, in many cases the lambda function can exist and work while remaining fully incognito."
      ],
      "metadata": {
        "id": "t0vG3ZvAqkwD"
      }
    },
    {
      "cell_type": "code",
      "source": [
        "two = lambda: 2\n",
        "sqr = lambda x: x * x\n",
        "pwr = lambda x, y: x ** y\n",
        "\n",
        "for a in range(-2, 3):\n",
        "    print(sqr(a), end=\" \")\n",
        "    print(pwr(a, two()))\n",
        "\n"
      ],
      "metadata": {
        "colab": {
          "base_uri": "https://localhost:8080/"
        },
        "id": "MmEQXAPNqtn8",
        "outputId": "27871495-dbd4-4207-baa3-34c573dbd870"
      },
      "execution_count": null,
      "outputs": [
        {
          "output_type": "stream",
          "name": "stdout",
          "text": [
            "4 4\n",
            "1 1\n",
            "0 0\n",
            "1 1\n",
            "4 4\n"
          ]
        }
      ]
    },
    {
      "cell_type": "markdown",
      "source": [
        "=>Let's analzye it:\n",
        "\n",
        "  1-the first lambda is an anonymous parameterless function that always returns 2. As we've assigned it to a variable named two, we can say that the function is not anonymous anymore, and we can use the name to invoke it.\n",
        "\n",
        "  2-the second one is a one-parameter anonymous function that returns the value of its squared argument. We've named it as such, too.\n",
        "\n",
        "  3-the third lambda takes two parameters and returns the value of the first one raised to the power of the second one. The name of the variable which carries the lambda speaks for itself. We don't use pow to avoid confusion with the built-in function of the same name and the same purpose."
      ],
      "metadata": {
        "id": "72vcQaI3rDjj"
      }
    },
    {
      "cell_type": "markdown",
      "source": [
        "NOTE:\n",
        "\n",
        "---\n",
        " the Style Guide for Python Code, recommends that lambdas should not be\n",
        "assigned to variables, but rather they should be defined as functions.\n",
        "\n",
        "\n",
        "```\n",
        "  #Recommended:\n",
        "def f(x): return 3*x\n",
        "  #Not recommended:\n",
        "f = lambda x: 3*x\n",
        "```\n",
        "\n"
      ],
      "metadata": {
        "id": "rkVe2QQCyjYH"
      }
    },
    {
      "cell_type": "markdown",
      "source": [
        "**The most interesting part of using lambdas appears when you can use them in their pure form - as anonymous parts of code intended to evaluate a result.**\n",
        "\n",
        "Let us show you another place where lambdas can be useful. We'll start with a description of ***map()***, a built-in Python function. Its name isn't too descriptive, its idea is simple, and the function itself is really usable.\n",
        "\n"
      ],
      "metadata": {
        "id": "jSIw-NtdsLQj"
      }
    },
    {
      "cell_type": "markdown",
      "source": [
        "\n",
        "# **Lambdas and the map() function**"
      ],
      "metadata": {
        "id": "2CL9EnrbselO"
      }
    },
    {
      "cell_type": "code",
      "source": [
        "#build the list_1 with values from 0 to 4\n",
        "list_1 = [x for x in range(5)]\n",
        "#next, use map along with the first lambda to\n",
        "#create a new list in which all elements have been evaluated as 2 raised to the power taken from the corresponding element from list_1\n",
        "list_2 = list(map(lambda x: 2 ** x, list_1))\n",
        "print(list_2)\n",
        "#in the next step, use the map() function again to make use of the generator it returns and to directly print all the values it delivers\n",
        "# as you can see, we've engaged the second lambda here - it just squares each element from list_2.\n",
        "for x in map(lambda x: x * x, list_2):\n",
        "    print(x, end=' ')\n",
        "print()\n"
      ],
      "metadata": {
        "colab": {
          "base_uri": "https://localhost:8080/"
        },
        "id": "P-BpxyBxsN1Y",
        "outputId": "543960a5-9a6b-493d-f108-7514413cdbfd"
      },
      "execution_count": null,
      "outputs": [
        {
          "output_type": "stream",
          "name": "stdout",
          "text": [
            "[1, 2, 4, 8, 16]\n",
            "1 4 16 64 256 \n"
          ]
        }
      ]
    },
    {
      "cell_type": "markdown",
      "source": [
        "# **Lambdas and the filter() function**"
      ],
      "metadata": {
        "id": "uQozDK8RwHe2"
      }
    },
    {
      "cell_type": "code",
      "source": [
        "#The filter(fun, list) function creates a copy of those list elements,\n",
        "# which cause the fun function to return True. The function's result is a generator providing the new list content element by element.\n",
        "short_list = [1, \"Python\", -1, \"Monty\"]\n",
        "new_list = list(filter(lambda s: isinstance(s, str), short_list))\n",
        "print(new_list)\n",
        "\n"
      ],
      "metadata": {
        "colab": {
          "base_uri": "https://localhost:8080/"
        },
        "id": "Xcume5gXwbeX",
        "outputId": "55bb8a41-59ee-452a-ffbc-c28f41241380"
      },
      "execution_count": null,
      "outputs": [
        {
          "output_type": "stream",
          "name": "stdout",
          "text": [
            "['Python', 'Monty']\n"
          ]
        }
      ]
    },
    {
      "cell_type": "markdown",
      "source": [
        "# **Lambdas and the sorted() function**"
      ],
      "metadata": {
        "id": "noxheZc_4aew"
      }
    },
    {
      "cell_type": "code",
      "source": [
        "# Exemple de liste de tuples\n",
        "ma_liste = [(1, 2), (3, 1), (5, 0), (4, 2)]\n",
        "\n",
        "# Trier la liste en fonction du deuxième élément de chaque tuple\n",
        "ma_liste_triee = sorted(ma_liste, key=lambda x: x[1])\n",
        "\n",
        "print(ma_liste_triee)\n"
      ],
      "metadata": {
        "colab": {
          "base_uri": "https://localhost:8080/"
        },
        "id": "c57uhSHSLSZS",
        "outputId": "d3726110-15fd-4079-e890-92b649cdb811"
      },
      "execution_count": null,
      "outputs": [
        {
          "output_type": "stream",
          "name": "stdout",
          "text": [
            "[(5, 0), (3, 1), (1, 2), (4, 2)]\n"
          ]
        }
      ]
    },
    {
      "cell_type": "code",
      "source": [
        "mon_dictionnaire = {'c': 3, 'a': 1, 'b': 2}\n",
        "\n",
        "# Trier le dictionnaire par valeur\n",
        "dictionnaire_trie = sorted(mon_dictionnaire.items(), key=lambda x: x[1])\n",
        "\n",
        "print(dictionnaire_trie)  # Résultat sous forme de liste de tuples\n"
      ],
      "metadata": {
        "colab": {
          "base_uri": "https://localhost:8080/"
        },
        "id": "ix-LTR3yMpiL",
        "outputId": "a09e24b1-417b-4fa8-b9e5-f581dc02794a"
      },
      "execution_count": null,
      "outputs": [
        {
          "output_type": "stream",
          "name": "stdout",
          "text": [
            "[('a', 1), ('b', 2), ('c', 3)]\n"
          ]
        }
      ]
    },
    {
      "cell_type": "markdown",
      "source": [
        "# **Lambdas and the reduce() function**"
      ],
      "metadata": {
        "id": "py2cCaZG4i-N"
      }
    },
    {
      "cell_type": "code",
      "source": [
        "from functools import reduce\n",
        "\n",
        "# Une liste d'entiers\n",
        "ma_liste = [1, 2, 3, 4, 5]\n",
        "\n",
        "# Utilisation de reduce avec une expression lambda pour additionner les éléments\n",
        "resultat = reduce(lambda x, y: x + y, ma_liste)\n",
        "\n",
        "print(resultat)  # Affiche la somme des éléments de la liste\n"
      ],
      "metadata": {
        "colab": {
          "base_uri": "https://localhost:8080/"
        },
        "id": "ySTNPhp0FjJg",
        "outputId": "8de46947-57a0-4c4b-ae1c-c9437713c00a"
      },
      "execution_count": null,
      "outputs": [
        {
          "output_type": "stream",
          "name": "stdout",
          "text": [
            "15\n"
          ]
        }
      ]
    },
    {
      "cell_type": "markdown",
      "source": [
        "# **Closures**"
      ],
      "metadata": {
        "id": "WbY_YJxqNkA0"
      }
    },
    {
      "cell_type": "markdown",
      "source": [
        " A closure is a technique which allows the storing of values in spite of the fact that the context in which they have been created does not exist anymore."
      ],
      "metadata": {
        "id": "PcqV-rgPyQXO"
      }
    },
    {
      "cell_type": "code",
      "source": [
        "def make_closure(par):\n",
        "    loc = par\n",
        "\n",
        "    def power(p):\n",
        "        return p ** loc\n",
        "    return power\n",
        "\n",
        "\n",
        "fsqr = make_closure(2)\n",
        "fcub = make_closure(3)\n",
        "\n",
        "for i in range(5):\n",
        "    print(i, fsqr(i), fcub(i))\n"
      ],
      "metadata": {
        "colab": {
          "base_uri": "https://localhost:8080/"
        },
        "id": "1AjAeQPZz5mK",
        "outputId": "f5378d41-62ed-4caa-a06a-a7679e2e4f42"
      },
      "execution_count": null,
      "outputs": [
        {
          "output_type": "stream",
          "name": "stdout",
          "text": [
            "0 0 0\n",
            "1 1 1\n",
            "2 4 8\n",
            "3 9 27\n",
            "4 16 64\n"
          ]
        }
      ]
    },
    {
      "cell_type": "markdown",
      "source": [
        "Now look at the code in the editor. It is fully possible to declare a closure equipped with an arbitrary number of parameters, e.g., one, just like the power() function.\n",
        "\n",
        "This means that the closure not only makes use of the frozen environment, but it can also modify its behavior by using values taken from the outside.\n",
        "\n",
        "This example shows one more interesting circumstance - you can create as many closures as you want using one and the same piece of code. This is done with a function named make_closure(). Note:\n",
        "\n",
        "the first closure obtained from make_closure() defines a tool squaring its argument;\n",
        "the second one is designed to cube the argument."
      ],
      "metadata": {
        "id": "5wrDD51IJYNp"
      }
    },
    {
      "cell_type": "markdown",
      "source": [
        "\n",
        "# **Generators**"
      ],
      "metadata": {
        "id": "4dEgR-8l5hQQ"
      }
    },
    {
      "cell_type": "markdown",
      "source": [
        "A Python generator is a piece of specialized code able to produce a series of values, and to control the iteration process. This is why generators are very often called iterators, and although some may find a very subtle distinction between these two, we'll treat them as one."
      ],
      "metadata": {
        "id": "IhcCBfEeEZcE"
      }
    },
    {
      "cell_type": "code",
      "source": [
        "# ----------------\n",
        "# -- Generators --\n",
        "# ----------------\n",
        "# [1] Generator is a Function With \"yield\" Keyword Instead of \"return\"\n",
        "# [2] It Support Iteration and Return Generator Iterator By Calling \"yield\"\n",
        "# [3] Generator Function Can Have one or More \"yield\"\n",
        "# [4] By Using next() It Resume From Where It Called \"yield\" Not From Begining\n",
        "# [5] When Called, Its Not Start Automatically, Its Only Give You The Control\n",
        "# -----------------------------------------------------------------\n",
        "\n",
        "def myGenerator():\n",
        "  yield 1\n",
        "  yield 2\n",
        "  yield 3\n",
        "  yield 4\n",
        "\n",
        "myGen = myGenerator()\n",
        "\n",
        "print(next(myGen), end=\" \")\n",
        "print(\"Hello From Python\")\n",
        "print(next(myGen), end=\" \")\n",
        "\n",
        "for number in myGen:\n",
        "  print(number)"
      ],
      "metadata": {
        "colab": {
          "base_uri": "https://localhost:8080/"
        },
        "id": "BoFo68B3BQ6r",
        "outputId": "b8d27aa0-b4fc-43d6-a30f-c8e7b709fbf3"
      },
      "execution_count": null,
      "outputs": [
        {
          "output_type": "stream",
          "name": "stdout",
          "text": [
            "1 Hello From Python\n",
            "2 3\n",
            "4\n"
          ]
        }
      ]
    },
    {
      "cell_type": "code",
      "source": [
        "def powers_of_2(n):\n",
        "    power = 1\n",
        "    for i in range(n):\n",
        "        yield power\n",
        "        power *= 2\n",
        "\n",
        "\n",
        "for v in powers_of_2(8):\n",
        "    print(v)\n",
        "\n"
      ],
      "metadata": {
        "colab": {
          "base_uri": "https://localhost:8080/"
        },
        "id": "0LsOPu61EzAt",
        "outputId": "3380d10a-75f0-4d60-a0ed-73887ac886e3"
      },
      "execution_count": null,
      "outputs": [
        {
          "output_type": "stream",
          "name": "stdout",
          "text": [
            "1\n",
            "2\n",
            "4\n",
            "8\n",
            "16\n",
            "32\n",
            "64\n",
            "128\n"
          ]
        }
      ]
    },
    {
      "cell_type": "markdown",
      "source": [
        "Generators may also be used within list comprehensions, just like here:"
      ],
      "metadata": {
        "id": "YQgJvC_kFNdu"
      }
    },
    {
      "cell_type": "code",
      "source": [
        "def powers_of_2(n):\n",
        "    power = 1\n",
        "    for i in range(n):\n",
        "        yield power\n",
        "        power *= 2\n",
        "\n",
        "\n",
        "t = [x for x in powers_of_2(8)]\n",
        "print(t)\n",
        "\n"
      ],
      "metadata": {
        "colab": {
          "base_uri": "https://localhost:8080/"
        },
        "id": "XOiNs2uOFCn0",
        "outputId": "bfb73a33-6047-4c4b-ed59-8b022000972a"
      },
      "execution_count": null,
      "outputs": [
        {
          "output_type": "stream",
          "name": "stdout",
          "text": [
            "[1, 2, 4, 8, 16, 32, 64, 128]\n"
          ]
        }
      ]
    },
    {
      "cell_type": "markdown",
      "source": [
        "# **List comprehensions**"
      ],
      "metadata": {
        "id": "2nB8fr4a0KtY"
      }
    },
    {
      "cell_type": "code",
      "source": [
        "list_1 = []\n",
        "\n",
        "for ex in range(6):\n",
        "    list_1.append(10 ** ex)\n",
        "\n",
        "list_2 = [10 ** ex for ex in range(6)]\n",
        "\n",
        "print(list_1)\n",
        "print(list_2)\n"
      ],
      "metadata": {
        "colab": {
          "base_uri": "https://localhost:8080/"
        },
        "id": "pupb7h490P2I",
        "outputId": "a257a56d-d304-41be-b5ae-b7c86df3c3f9"
      },
      "execution_count": null,
      "outputs": [
        {
          "output_type": "stream",
          "name": "stdout",
          "text": [
            "[1, 10, 100, 1000, 10000, 100000]\n",
            "[1, 10, 100, 1000, 10000, 100000]\n"
          ]
        }
      ]
    },
    {
      "cell_type": "markdown",
      "source": [
        "There is a very interesting syntax we want to show you now. Its usability is not limited to list comprehensions, but we have to admit that comprehensions are the ideal environment for it.\n",
        "\n",
        "It's a conditional expression - a way of selecting one of two different values based on the result of a Boolean expression.\n",
        "\n"
      ],
      "metadata": {
        "id": "DHScOlMV0J3h"
      }
    },
    {
      "cell_type": "markdown",
      "source": [
        "![image.png](data:image/png;base64,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)"
      ],
      "metadata": {
        "id": "nyx5Jgh90GDn"
      }
    },
    {
      "cell_type": "code",
      "source": [
        "the_list = []\n",
        "\n",
        "for x in range(10):\n",
        "    the_list.append(1 if x % 2 == 0 else 0)\n",
        "\n",
        "print(the_list)"
      ],
      "metadata": {
        "colab": {
          "base_uri": "https://localhost:8080/"
        },
        "id": "vT0rk5XF0q2s",
        "outputId": "75ca4d9a-f30b-4763-c4a8-2db8a76002fa"
      },
      "execution_count": null,
      "outputs": [
        {
          "output_type": "stream",
          "name": "stdout",
          "text": [
            "[1, 0, 1, 0, 1, 0, 1, 0, 1, 0]\n"
          ]
        }
      ]
    },
    {
      "cell_type": "markdown",
      "source": [
        "# **Benefits of List Comprehension**\n",
        "Apart from being simple, compact, and faster, list comprehension is also reliable in many different situations. And you can use it in a variety of circumstances.\n",
        "\n",
        "You can use list comprehension to map and filter in addition to basic list generation. You don't need to adopt a new strategy for each situation. That’s one of the reasons it is considered more pythonic than a for loop."
      ],
      "metadata": {
        "id": "nOnqu8131J_z"
      }
    },
    {
      "cell_type": "markdown",
      "source": [
        "# **List comprehensions vs. generators**\n",
        "\n",
        "It's the parentheses. The brackets make a comprehension, the parentheses make a generator."
      ],
      "metadata": {
        "id": "uSov9HM_3Fd6"
      }
    },
    {
      "cell_type": "code",
      "source": [
        "the_list = [1 if x % 2 == 0 else 0 for x in range(10)]\n",
        "the_generator = (1 if x % 2 == 0 else 0 for x in range(10))\n",
        "\n",
        "for v in the_list:\n",
        "    print(v, end=\" \")\n",
        "print()\n",
        "\n",
        "for v in the_generator:\n",
        "    print(v, end=\" \")\n",
        "print()\n",
        "\n"
      ],
      "metadata": {
        "colab": {
          "base_uri": "https://localhost:8080/"
        },
        "id": "X1ZnieWR3ICX",
        "outputId": "114f32ad-8008-4c32-f31f-de96af248388"
      },
      "execution_count": null,
      "outputs": [
        {
          "output_type": "stream",
          "name": "stdout",
          "text": [
            "1 0 1 0 1 0 1 0 1 0 \n",
            "1 0 1 0 1 0 1 0 1 0 \n"
          ]
        }
      ]
    },
    {
      "cell_type": "markdown",
      "source": [
        "How can you know that the second assignment creates a generator, not a list?\n",
        "\n",
        "There is some proof we can show you. Apply the len() function to both these entities."
      ],
      "metadata": {
        "id": "9__mgHjt3aYc"
      }
    },
    {
      "cell_type": "code",
      "source": [
        "len(the_list)\n",
        "len(the_generator)"
      ],
      "metadata": {
        "colab": {
          "base_uri": "https://localhost:8080/",
          "height": 193
        },
        "id": "Z7GMF5v63gkr",
        "outputId": "7d2735bb-0064-4503-f9d6-65d343fd9bfa"
      },
      "execution_count": null,
      "outputs": [
        {
          "output_type": "error",
          "ename": "TypeError",
          "evalue": "object of type 'generator' has no len()",
          "traceback": [
            "\u001b[0;31m---------------------------------------------------------------------------\u001b[0m",
            "\u001b[0;31mTypeError\u001b[0m                                 Traceback (most recent call last)",
            "\u001b[0;32m<ipython-input-16-9d0b648da92e>\u001b[0m in \u001b[0;36m<cell line: 2>\u001b[0;34m()\u001b[0m\n\u001b[1;32m      1\u001b[0m \u001b[0mlen\u001b[0m\u001b[0;34m(\u001b[0m\u001b[0mthe_list\u001b[0m\u001b[0;34m)\u001b[0m\u001b[0;34m\u001b[0m\u001b[0;34m\u001b[0m\u001b[0m\n\u001b[0;32m----> 2\u001b[0;31m \u001b[0mlen\u001b[0m\u001b[0;34m(\u001b[0m\u001b[0mthe_generator\u001b[0m\u001b[0;34m)\u001b[0m\u001b[0;34m\u001b[0m\u001b[0;34m\u001b[0m\u001b[0m\n\u001b[0m",
            "\u001b[0;31mTypeError\u001b[0m: object of type 'generator' has no len()"
          ]
        }
      ]
    },
    {
      "cell_type": "markdown",
      "source": [
        "# **LAB**\n",
        "# **Processing Collections in Python Using Lambdas**\n",
        "**Introduction**\n",
        "\n",
        "Being able to perform actions on a collection is incredibly useful in any type of programming, and it is pretty common to need to perform a single action on each item. We could do this by using a loop, but there are built-in collection functions that can take a collection and a function or lambda to run each item through. In this hands-on lab, we utilize higher-order functions to process some existing lists by using lambdas.\n",
        "\n",
        "The map, filter, sorted, and reversed functions are great examples of higher-order functions that can receive a function (or lambda) as an argument and do things accordingly. In this hands-on lab, we're going to leverage these functions and lambdas to process some pre-created lists within the collection_processing.py script.\n",
        "\n"
      ],
      "metadata": {
        "id": "7wTcJoW8k36B"
      }
    },
    {
      "cell_type": "markdown",
      "source": [
        "**1-Create the sorted_by_name List by Sorting the people List of Dictionaries**"
      ],
      "metadata": {
        "id": "0W10XOmnlO8l"
      }
    },
    {
      "cell_type": "code",
      "execution_count": null,
      "metadata": {
        "colab": {
          "base_uri": "https://localhost:8080/"
        },
        "id": "4FkhH03XjEpi",
        "outputId": "b066d020-3628-44dc-b98c-4d5e270b3546"
      },
      "outputs": [
        {
          "output_type": "stream",
          "name": "stdout",
          "text": [
            "[{'name': 'Ariana Richards', 'age': 40}, {'name': 'finn Carter', 'age': 59}, {'name': 'Fred Ward', 'age': 77}, {'name': 'Kevin Bacon', 'age': 61}, {'name': 'Victor Wong', 'age': 74}]\n"
          ]
        }
      ],
      "source": [
        "# 1) Sort the `people` list of dictionaries alphabetically based on the\n",
        "# 'name' key from each dictionary using the `sorted` function and store\n",
        "# the new list as `sorted_by_name`\n",
        "\n",
        "people = [\n",
        "    {\"name\": \"Kevin Bacon\", \"age\": 61},\n",
        "    {\"name\": \"Fred Ward\", \"age\": 77},\n",
        "    {\"name\": \"finn Carter\", \"age\": 59},\n",
        "    {\"name\": \"Ariana Richards\", \"age\": 40},\n",
        "    {\"name\": \"Victor Wong\", \"age\": 74},\n",
        "]\n",
        "\n",
        "sorted_by_name = sorted(people, key=lambda d: d['name'].lower())\n",
        "\n",
        "\n",
        "print(sorted_by_name)"
      ]
    },
    {
      "cell_type": "code",
      "source": [
        "assert sorted_by_name == [\n",
        "    {\"name\": \"Ariana Richards\", \"age\": 40},\n",
        "    {\"name\": \"finn Carter\", \"age\": 59},\n",
        "    {\"name\": \"Fred Ward\", \"age\": 77},\n",
        "    {\"name\": \"Kevin Bacon\", \"age\": 61},\n",
        "    {\"name\": \"Victor Wong\", \"age\": 74},\n",
        "], f\"Expected sorted_by_name to equal '{sorted_by_name}' to equal '{[{'name': 'Ariana Richards', 'age': 40},{'name': 'finn Carter', 'age': 59}, {'name': 'Fred Ward', 'age': 77}, {'name': 'Kevin Bacon', 'age': 61}, {'name': 'Victor Wong', 'age': 74}]}''\"\n",
        "print(sorted_by_name)"
      ],
      "metadata": {
        "colab": {
          "base_uri": "https://localhost:8080/"
        },
        "id": "xuFhzBx8jfxp",
        "outputId": "91b6f5ec-718e-45a4-c18c-96eb5c409837"
      },
      "execution_count": null,
      "outputs": [
        {
          "output_type": "stream",
          "name": "stdout",
          "text": [
            "[{'name': 'Ariana Richards', 'age': 40}, {'name': 'finn Carter', 'age': 59}, {'name': 'Fred Ward', 'age': 77}, {'name': 'Kevin Bacon', 'age': 61}, {'name': 'Victor Wong', 'age': 74}]\n"
          ]
        }
      ]
    },
    {
      "cell_type": "markdown",
      "source": [
        " **2-Create the name_declarations List by Mapping over sorted_by_name**"
      ],
      "metadata": {
        "id": "5gBNvMw1lUdb"
      }
    },
    {
      "cell_type": "code",
      "source": [
        "# 2) Use the `map` function to iterate over `sorted_by_name` to generate a\n",
        "# new list called `name_declarations` where each value is a string with\n",
        "# `<NAME> is <AGE> years old.` where the `<NAME>` and `<AGE>` values are from\n",
        "# the dictionaries.\n",
        "\n",
        "name_declarations = list(\n",
        "    map(lambda d: f\"{d['name']} is {d['age']} years old\", sorted_by_name)\n",
        ")\n",
        "\n",
        "assert name_declarations == [\n",
        "    \"Ariana Richards is 40 years old\",\n",
        "    \"finn Carter is 59 years old\",\n",
        "    \"Fred Ward is 77 years old\",\n",
        "    \"Kevin Bacon is 61 years old\",\n",
        "    \"Victor Wong is 74 years old\",\n",
        "], f\"Expected name_declarations to equal '{name_declarations}' to equal '{['Ariana Richards is 40 years old', 'finn Carter is 59 years old', 'Fred Ward is 77 years old', 'Kevin Bacon is 61 years old', 'Victor Wong is 74 years old']}'\"\n",
        "print(name_declarations)"
      ],
      "metadata": {
        "colab": {
          "base_uri": "https://localhost:8080/"
        },
        "id": "asspZ8GpkGQj",
        "outputId": "ba6ab4f4-0297-4623-8da6-3949f686df6e"
      },
      "execution_count": null,
      "outputs": [
        {
          "output_type": "stream",
          "name": "stdout",
          "text": [
            "['Ariana Richards is 40 years old', 'finn Carter is 59 years old', 'Fred Ward is 77 years old', 'Kevin Bacon is 61 years old', 'Victor Wong is 74 years old']\n"
          ]
        }
      ]
    },
    {
      "cell_type": "markdown",
      "source": [
        "**3-Create the under_seventy List by Filtering and Sorting on the sorted_by_name List**"
      ],
      "metadata": {
        "id": "QA9gDvwYlfNf"
      }
    },
    {
      "cell_type": "code",
      "source": [
        "# 3) Combine the `filter` and `sorted` functions to iterate over `sorted_by_name` to generate a\n",
        "# new list called `under_seventy` that only contains the dictionaries where the\n",
        "# 'age' key is less than 70, sorting the list by age.\n",
        "\n",
        "under_seventy = sorted(\n",
        "    filter(lambda d: d['age'] < 70, sorted_by_name), key=lambda d: d['age']\n",
        ")\n",
        "\n",
        "assert under_seventy == [\n",
        "    {\"name\": \"Ariana Richards\", \"age\": 40},\n",
        "    {\"name\": \"finn Carter\", \"age\": 59},\n",
        "    {\"name\": \"Kevin Bacon\", \"age\": 61},\n",
        "], f\"Expected under_seventy to equal '{under_seventy}' to equal '{[{'name': 'Ariana Richards', 'age': 40}, {'name': 'finn Carter', 'age': 59}, {'name': 'Kevin Bacon', 'age': 61}]}'\"\n",
        "print(under_seventy)"
      ],
      "metadata": {
        "colab": {
          "base_uri": "https://localhost:8080/"
        },
        "id": "2bODN4T-kZv3",
        "outputId": "73625e3b-80b0-4c91-f5ac-6abb5c8983a0"
      },
      "execution_count": null,
      "outputs": [
        {
          "output_type": "stream",
          "name": "stdout",
          "text": [
            "[{'name': 'Ariana Richards', 'age': 40}, {'name': 'finn Carter', 'age': 59}, {'name': 'Kevin Bacon', 'age': 61}]\n"
          ]
        }
      ]
    }
  ]
}